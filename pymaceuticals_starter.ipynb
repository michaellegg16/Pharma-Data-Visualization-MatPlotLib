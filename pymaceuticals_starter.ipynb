{
 "cells": [
  {
   "cell_type": "markdown",
   "metadata": {},
   "source": [
    "## Observations and Insights"
   ]
  },
  {
   "cell_type": "markdown",
   "metadata": {},
   "source": [
    "1) Drug regimens Capomulin and Ramicane appear to have the smallest average tumor size at the final time point.\n",
    "\n",
    "2) Tumor volume seems to decrease as time goes on with the Ceftamin treatment.\n",
    "\n",
    "3) Tumor volume seems to increase (for the mouses treated with Cefftamin), as their weight increases. However, a correlatin coefficient of .84 tells us that we need to dig deeper. Is the volume of the tumor increasing proportionally as weight increases, or is the increase in tumor volume just a result from bigger mouses?"
   ]
  },
  {
   "cell_type": "markdown",
   "metadata": {},
   "source": [
    "\n",
    "## Dependencies and starter code"
   ]
  },
  {
   "cell_type": "code",
   "execution_count": 2,
   "metadata": {},
   "outputs": [
    {
     "data": {
      "text/html": [
       "<div>\n",
       "<style scoped>\n",
       "    .dataframe tbody tr th:only-of-type {\n",
       "        vertical-align: middle;\n",
       "    }\n",
       "\n",
       "    .dataframe tbody tr th {\n",
       "        vertical-align: top;\n",
       "    }\n",
       "\n",
       "    .dataframe thead th {\n",
       "        text-align: right;\n",
       "    }\n",
       "</style>\n",
       "<table border=\"1\" class=\"dataframe\">\n",
       "  <thead>\n",
       "    <tr style=\"text-align: right;\">\n",
       "      <th></th>\n",
       "      <th>Mouse ID</th>\n",
       "      <th>Drug Regimen</th>\n",
       "      <th>Sex</th>\n",
       "      <th>Age_months</th>\n",
       "      <th>Weight (g)</th>\n",
       "      <th>Timepoint</th>\n",
       "      <th>Tumor Volume (mm3)</th>\n",
       "      <th>Metastatic Sites</th>\n",
       "    </tr>\n",
       "  </thead>\n",
       "  <tbody>\n",
       "    <tr>\n",
       "      <th>0</th>\n",
       "      <td>k403</td>\n",
       "      <td>Ramicane</td>\n",
       "      <td>Male</td>\n",
       "      <td>21</td>\n",
       "      <td>16</td>\n",
       "      <td>0</td>\n",
       "      <td>45.000000</td>\n",
       "      <td>0</td>\n",
       "    </tr>\n",
       "    <tr>\n",
       "      <th>1</th>\n",
       "      <td>k403</td>\n",
       "      <td>Ramicane</td>\n",
       "      <td>Male</td>\n",
       "      <td>21</td>\n",
       "      <td>16</td>\n",
       "      <td>5</td>\n",
       "      <td>38.825898</td>\n",
       "      <td>0</td>\n",
       "    </tr>\n",
       "    <tr>\n",
       "      <th>2</th>\n",
       "      <td>k403</td>\n",
       "      <td>Ramicane</td>\n",
       "      <td>Male</td>\n",
       "      <td>21</td>\n",
       "      <td>16</td>\n",
       "      <td>10</td>\n",
       "      <td>35.014271</td>\n",
       "      <td>1</td>\n",
       "    </tr>\n",
       "    <tr>\n",
       "      <th>3</th>\n",
       "      <td>k403</td>\n",
       "      <td>Ramicane</td>\n",
       "      <td>Male</td>\n",
       "      <td>21</td>\n",
       "      <td>16</td>\n",
       "      <td>15</td>\n",
       "      <td>34.223992</td>\n",
       "      <td>1</td>\n",
       "    </tr>\n",
       "    <tr>\n",
       "      <th>4</th>\n",
       "      <td>k403</td>\n",
       "      <td>Ramicane</td>\n",
       "      <td>Male</td>\n",
       "      <td>21</td>\n",
       "      <td>16</td>\n",
       "      <td>20</td>\n",
       "      <td>32.997729</td>\n",
       "      <td>1</td>\n",
       "    </tr>\n",
       "    <tr>\n",
       "      <th>...</th>\n",
       "      <td>...</td>\n",
       "      <td>...</td>\n",
       "      <td>...</td>\n",
       "      <td>...</td>\n",
       "      <td>...</td>\n",
       "      <td>...</td>\n",
       "      <td>...</td>\n",
       "      <td>...</td>\n",
       "    </tr>\n",
       "    <tr>\n",
       "      <th>1888</th>\n",
       "      <td>z969</td>\n",
       "      <td>Naftisol</td>\n",
       "      <td>Male</td>\n",
       "      <td>9</td>\n",
       "      <td>30</td>\n",
       "      <td>25</td>\n",
       "      <td>63.145652</td>\n",
       "      <td>2</td>\n",
       "    </tr>\n",
       "    <tr>\n",
       "      <th>1889</th>\n",
       "      <td>z969</td>\n",
       "      <td>Naftisol</td>\n",
       "      <td>Male</td>\n",
       "      <td>9</td>\n",
       "      <td>30</td>\n",
       "      <td>30</td>\n",
       "      <td>65.841013</td>\n",
       "      <td>3</td>\n",
       "    </tr>\n",
       "    <tr>\n",
       "      <th>1890</th>\n",
       "      <td>z969</td>\n",
       "      <td>Naftisol</td>\n",
       "      <td>Male</td>\n",
       "      <td>9</td>\n",
       "      <td>30</td>\n",
       "      <td>35</td>\n",
       "      <td>69.176246</td>\n",
       "      <td>4</td>\n",
       "    </tr>\n",
       "    <tr>\n",
       "      <th>1891</th>\n",
       "      <td>z969</td>\n",
       "      <td>Naftisol</td>\n",
       "      <td>Male</td>\n",
       "      <td>9</td>\n",
       "      <td>30</td>\n",
       "      <td>40</td>\n",
       "      <td>70.314904</td>\n",
       "      <td>4</td>\n",
       "    </tr>\n",
       "    <tr>\n",
       "      <th>1892</th>\n",
       "      <td>z969</td>\n",
       "      <td>Naftisol</td>\n",
       "      <td>Male</td>\n",
       "      <td>9</td>\n",
       "      <td>30</td>\n",
       "      <td>45</td>\n",
       "      <td>73.867845</td>\n",
       "      <td>4</td>\n",
       "    </tr>\n",
       "  </tbody>\n",
       "</table>\n",
       "<p>1893 rows × 8 columns</p>\n",
       "</div>"
      ],
      "text/plain": [
       "     Mouse ID Drug Regimen   Sex  Age_months  Weight (g)  Timepoint  \\\n",
       "0        k403     Ramicane  Male          21          16          0   \n",
       "1        k403     Ramicane  Male          21          16          5   \n",
       "2        k403     Ramicane  Male          21          16         10   \n",
       "3        k403     Ramicane  Male          21          16         15   \n",
       "4        k403     Ramicane  Male          21          16         20   \n",
       "...       ...          ...   ...         ...         ...        ...   \n",
       "1888     z969     Naftisol  Male           9          30         25   \n",
       "1889     z969     Naftisol  Male           9          30         30   \n",
       "1890     z969     Naftisol  Male           9          30         35   \n",
       "1891     z969     Naftisol  Male           9          30         40   \n",
       "1892     z969     Naftisol  Male           9          30         45   \n",
       "\n",
       "      Tumor Volume (mm3)  Metastatic Sites  \n",
       "0              45.000000                 0  \n",
       "1              38.825898                 0  \n",
       "2              35.014271                 1  \n",
       "3              34.223992                 1  \n",
       "4              32.997729                 1  \n",
       "...                  ...               ...  \n",
       "1888           63.145652                 2  \n",
       "1889           65.841013                 3  \n",
       "1890           69.176246                 4  \n",
       "1891           70.314904                 4  \n",
       "1892           73.867845                 4  \n",
       "\n",
       "[1893 rows x 8 columns]"
      ]
     },
     "execution_count": 2,
     "metadata": {},
     "output_type": "execute_result"
    }
   ],
   "source": [
    "# Dependencies and Setup\n",
    "import matplotlib.pyplot as plt\n",
    "import pandas as pd\n",
    "import scipy.stats as st\n",
    "import numpy as np\n",
    "from scipy.stats import linregress\n",
    "\n",
    "# Study data files\n",
    "mouse_metadata = \"data/Mouse_metadata.csv\"\n",
    "study_results = \"data/Study_results.csv\"\n",
    "\n",
    "# Read the mouse data and the study results\n",
    "mouse_metadata = pd.read_csv(mouse_metadata)\n",
    "study_results = pd.read_csv(study_results)\n",
    "\n",
    "# Combine the data into a single dataset\n",
    "mouse_study_data = pd.merge(mouse_metadata, study_results, on='Mouse ID', how='outer')\n",
    "mouse_study_data"
   ]
  },
  {
   "cell_type": "markdown",
   "metadata": {},
   "source": [
    "## Summary statistics"
   ]
  },
  {
   "cell_type": "code",
   "execution_count": 3,
   "metadata": {},
   "outputs": [
    {
     "data": {
      "text/html": [
       "<div>\n",
       "<style scoped>\n",
       "    .dataframe tbody tr th:only-of-type {\n",
       "        vertical-align: middle;\n",
       "    }\n",
       "\n",
       "    .dataframe tbody tr th {\n",
       "        vertical-align: top;\n",
       "    }\n",
       "\n",
       "    .dataframe thead th {\n",
       "        text-align: right;\n",
       "    }\n",
       "</style>\n",
       "<table border=\"1\" class=\"dataframe\">\n",
       "  <thead>\n",
       "    <tr style=\"text-align: right;\">\n",
       "      <th></th>\n",
       "      <th>Mean Tumor Vol (mm3)</th>\n",
       "      <th>Median</th>\n",
       "      <th>Variance</th>\n",
       "      <th>Standard Dev</th>\n",
       "      <th>SEM</th>\n",
       "    </tr>\n",
       "    <tr>\n",
       "      <th>Drug Regimen</th>\n",
       "      <th></th>\n",
       "      <th></th>\n",
       "      <th></th>\n",
       "      <th></th>\n",
       "      <th></th>\n",
       "    </tr>\n",
       "  </thead>\n",
       "  <tbody>\n",
       "    <tr>\n",
       "      <th>Capomulin</th>\n",
       "      <td>40.68</td>\n",
       "      <td>41.56</td>\n",
       "      <td>24.95</td>\n",
       "      <td>4.99</td>\n",
       "      <td>0.33</td>\n",
       "    </tr>\n",
       "    <tr>\n",
       "      <th>Ceftamin</th>\n",
       "      <td>52.59</td>\n",
       "      <td>51.78</td>\n",
       "      <td>39.29</td>\n",
       "      <td>6.27</td>\n",
       "      <td>0.47</td>\n",
       "    </tr>\n",
       "    <tr>\n",
       "      <th>Infubinol</th>\n",
       "      <td>52.88</td>\n",
       "      <td>51.82</td>\n",
       "      <td>43.13</td>\n",
       "      <td>6.57</td>\n",
       "      <td>0.49</td>\n",
       "    </tr>\n",
       "    <tr>\n",
       "      <th>Ketapril</th>\n",
       "      <td>55.24</td>\n",
       "      <td>53.70</td>\n",
       "      <td>68.55</td>\n",
       "      <td>8.28</td>\n",
       "      <td>0.60</td>\n",
       "    </tr>\n",
       "    <tr>\n",
       "      <th>Naftisol</th>\n",
       "      <td>54.33</td>\n",
       "      <td>52.51</td>\n",
       "      <td>66.17</td>\n",
       "      <td>8.13</td>\n",
       "      <td>0.60</td>\n",
       "    </tr>\n",
       "    <tr>\n",
       "      <th>Placebo</th>\n",
       "      <td>54.03</td>\n",
       "      <td>52.29</td>\n",
       "      <td>61.17</td>\n",
       "      <td>7.82</td>\n",
       "      <td>0.58</td>\n",
       "    </tr>\n",
       "    <tr>\n",
       "      <th>Propriva</th>\n",
       "      <td>52.32</td>\n",
       "      <td>50.85</td>\n",
       "      <td>42.35</td>\n",
       "      <td>6.51</td>\n",
       "      <td>0.51</td>\n",
       "    </tr>\n",
       "    <tr>\n",
       "      <th>Ramicane</th>\n",
       "      <td>40.22</td>\n",
       "      <td>40.67</td>\n",
       "      <td>23.49</td>\n",
       "      <td>4.85</td>\n",
       "      <td>0.32</td>\n",
       "    </tr>\n",
       "    <tr>\n",
       "      <th>Stelasyn</th>\n",
       "      <td>54.23</td>\n",
       "      <td>52.43</td>\n",
       "      <td>59.45</td>\n",
       "      <td>7.71</td>\n",
       "      <td>0.57</td>\n",
       "    </tr>\n",
       "    <tr>\n",
       "      <th>Zoniferol</th>\n",
       "      <td>53.24</td>\n",
       "      <td>51.82</td>\n",
       "      <td>48.53</td>\n",
       "      <td>6.97</td>\n",
       "      <td>0.52</td>\n",
       "    </tr>\n",
       "  </tbody>\n",
       "</table>\n",
       "</div>"
      ],
      "text/plain": [
       "              Mean Tumor Vol (mm3)  Median  Variance  Standard Dev   SEM\n",
       "Drug Regimen                                                            \n",
       "Capomulin                    40.68   41.56     24.95          4.99  0.33\n",
       "Ceftamin                     52.59   51.78     39.29          6.27  0.47\n",
       "Infubinol                    52.88   51.82     43.13          6.57  0.49\n",
       "Ketapril                     55.24   53.70     68.55          8.28  0.60\n",
       "Naftisol                     54.33   52.51     66.17          8.13  0.60\n",
       "Placebo                      54.03   52.29     61.17          7.82  0.58\n",
       "Propriva                     52.32   50.85     42.35          6.51  0.51\n",
       "Ramicane                     40.22   40.67     23.49          4.85  0.32\n",
       "Stelasyn                     54.23   52.43     59.45          7.71  0.57\n",
       "Zoniferol                    53.24   51.82     48.53          6.97  0.52"
      ]
     },
     "execution_count": 3,
     "metadata": {},
     "output_type": "execute_result"
    }
   ],
   "source": [
    "# Generate a summary statistics table of mean, median, variance, standard deviation, \n",
    "# and SEM of the tumor volume for each regimen\n",
    "\n",
    "regimens = mouse_study_data.groupby(['Drug Regimen'])\n",
    "\n",
    "mean = round(regimens['Tumor Volume (mm3)'].mean(), 2)\n",
    "median = round(regimens['Tumor Volume (mm3)'].median(), 2)\n",
    "variance = round(regimens['Tumor Volume (mm3)'].var(), 2)\n",
    "stdev = round(regimens['Tumor Volume (mm3)'].std(), 2)\n",
    "SEM = round(regimens['Tumor Volume (mm3)'].sem(), 2)\n",
    "\n",
    "summary_stats = pd.DataFrame({'Mean Tumor Vol (mm3)': mean,\n",
    "                             'Median': median,\n",
    "                             'Variance': variance,\n",
    "                             'Standard Dev': stdev,\n",
    "                             'SEM': SEM})\n",
    "\n",
    "summary_stats"
   ]
  },
  {
   "cell_type": "markdown",
   "metadata": {},
   "source": [
    "## Bar plots"
   ]
  },
  {
   "cell_type": "code",
   "execution_count": 21,
   "metadata": {},
   "outputs": [
    {
     "data": {
      "image/png": "[encoded data removed]",
      "text/plain": [
       "<Figure size 432x288 with 1 Axes>"
      ]
     },
     "metadata": {
      "needs_background": "light"
     },
     "output_type": "display_data"
    }
   ],
   "source": [
    "# Generate a bar plot showing number of data points for each treatment regimen using pandas\n",
    "data_points = regimens['Drug Regimen'].count()\n",
    "data_plot = data_points.plot(kind='bar', title= 'Number of Data Points for Each Regimen')"
   ]
  },
  {
   "cell_type": "code",
   "execution_count": 5,
   "metadata": {},
   "outputs": [
    {
     "data": {
      "text/plain": [
       "Text(0.5, 0, 'Drug Regimen')"
      ]
     },
     "execution_count": 5,
     "metadata": {},
     "output_type": "execute_result"
    },
    {
     "data": {
      "image/png": "[encoded data removed]",
      "text/plain": [
       "<Figure size 432x288 with 1 Axes>"
      ]
     },
     "metadata": {
      "needs_background": "light"
     },
     "output_type": "display_data"
    }
   ],
   "source": [
    "# Generate a bar plot showing number of data points for each treatment regimen using pyplot\n",
    "data_points = regimens['Drug Regimen'].count()\n",
    "x_axis = np.arange(len(summary_stats))\n",
    "\n",
    "plt.bar(x_axis, data_points)\n",
    "\n",
    "ticks = [regimen for regimen in x_axis]\n",
    "unique_regimens = mouse_study_data['Drug Regimen'].drop_duplicates()\n",
    "\n",
    "plt.xticks(ticks, unique_regimens, rotation='vertical')\n",
    "plt.title('Number of Data Points for Each Regimen')\n",
    "plt.xlabel('Drug Regimen')"
   ]
  },
  {
   "cell_type": "markdown",
   "metadata": {},
   "source": [
    "## Pie plots"
   ]
  },
  {
   "cell_type": "code",
   "execution_count": 6,
   "metadata": {},
   "outputs": [
    {
     "data": {
      "text/plain": [
       "array([<matplotlib.axes._subplots.AxesSubplot object at 0x11de75ee0>],\n",
       "      dtype=object)"
      ]
     },
     "execution_count": 6,
     "metadata": {},
     "output_type": "execute_result"
    },
    {
     "data": {
      "image/png": "[encoded data removed]",
      "text/plain": [
       "<Figure size 432x288 with 1 Axes>"
      ]
     },
     "metadata": {},
     "output_type": "display_data"
    }
   ],
   "source": [
    "# Generate a pie plot showing the distribution of female versus male mice using pandas\n",
    "genders = mouse_study_data.groupby(['Sex'])\n",
    "gender_counts = genders['Sex'].count()\n",
    "gender_counts.plot(kind='pie', autopct='%1.1f%%', subplots=True)"
   ]
  },
  {
   "cell_type": "code",
   "execution_count": 7,
   "metadata": {},
   "outputs": [
    {
     "data": {
      "text/plain": [
       "Text(0.5, 1.0, 'Sex')"
      ]
     },
     "execution_count": 7,
     "metadata": {},
     "output_type": "execute_result"
    },
    {
     "data": {
      "image/png": "[encoded data removed]",
      "text/plain": [
       "<Figure size 432x288 with 1 Axes>"
      ]
     },
     "metadata": {},
     "output_type": "display_data"
    }
   ],
   "source": [
    "# Generate a pie plot showing the distribution of female versus male mice using pyplot\n",
    "gender_labels = ['male', 'female']\n",
    "plt.pie(gender_counts, labels=gender_labels, autopct='%1.1f%%')\n",
    "plt.title('Sex')"
   ]
  },
  {
   "cell_type": "markdown",
   "metadata": {},
   "source": [
    "## Quartiles, outliers and boxplots"
   ]
  },
  {
   "cell_type": "code",
   "execution_count": 8,
   "metadata": {},
   "outputs": [
    {
     "name": "stdout",
     "output_type": "stream",
     "text": [
      "The lower quartile for Capomulin is: 32.38\n",
      "The upper quartile for Capomulin is: 40.16\n",
      "The interquartile for Capomulin is: 7.78\n",
      "The the median for Capomulin is: 37.31 \n",
      "Values below 20.71 could be outliers.\n",
      "Values above 51.83 could be outliers.\n",
      "\n",
      "--------------------------\n",
      "\n",
      "The lower quartile for Ramicane is: 30.98\n",
      "The upper quartile for Ramicane is: 38.51\n",
      "The interquartile for Ramicane is: 7.53\n",
      "The the median for Ramicane is: 34.85 \n",
      "Values below 19.685000000000002 could be outliers.\n",
      "Values above 49.805 could be outliers.\n",
      "\n",
      "--------------------------\n",
      "\n",
      "The lower quartile for Infubinol is: 62.75\n",
      "The upper quartile for Infubinol is: 67.69\n",
      "The interquartile for Infubinol is: 4.94\n",
      "The the median for Infubinol is: 66.08 \n",
      "Values below 55.34 could be outliers.\n",
      "Values above 75.1 could be outliers.\n",
      "\n",
      "--------------------------\n",
      "\n",
      "The lower quartile for Ceftamin is: 61.43\n",
      "The upper quartile for Ceftamin is: 67.53\n",
      "The interquartile for Ceftamin is: 6.1\n",
      "The the median for Ceftamin is: 64.3 \n",
      "Values below 52.28 could be outliers.\n",
      "Values above 76.68 could be outliers.\n"
     ]
    }
   ],
   "source": [
    "# Calculate the final tumor volume of each mouse across four of the most promising treatment regimens. \n",
    "# Capomulin, Ramicane, Infubinol, and Ceftamin. \n",
    "# Calculate the IQR and quantitatively determine if there are any potential outliers. \n",
    "\n",
    "mouses = mouse_study_data.loc[(mouse_study_data['Drug Regimen'] == 'Capomulin') | \n",
    "                             (mouse_study_data['Drug Regimen'] == 'Ramicane') | \n",
    "                             (mouse_study_data['Drug Regimen'] == 'Infubinol') | \n",
    "                             (mouse_study_data['Drug Regimen'] == 'Ceftamin'),\n",
    "                              ['Mouse ID', 'Drug Regimen', 'Timepoint', 'Tumor Volume (mm3)']]\n",
    "\n",
    "final_times = mouses.loc[mouses['Timepoint'] == 45]\n",
    "capo_final_vols = final_times.loc[final_times['Drug Regimen'] == 'Capomulin', :]['Tumor Volume (mm3)']\n",
    "rami_final_vols = final_times.loc[final_times['Drug Regimen'] == 'Ramicane', :]['Tumor Volume (mm3)']\n",
    "infu_final_vols = final_times.loc[final_times['Drug Regimen'] == 'Infubinol', :]['Tumor Volume (mm3)']\n",
    "ceft_final_vols = final_times.loc[final_times['Drug Regimen'] == 'Ceftamin', :]['Tumor Volume (mm3)']\n",
    "\n",
    "quartiles = capo_final_vols.quantile([.25,.5,.75])\n",
    "lowerq = round(quartiles[0.25], 2)\n",
    "upperq = round(quartiles[0.75], 2)\n",
    "iqr = round(upperq-lowerq, 2)\n",
    "\n",
    "print(f\"The lower quartile for Capomulin is: {lowerq}\")\n",
    "print(f\"The upper quartile for Capomulin is: {upperq}\")\n",
    "print(f\"The interquartile for Capomulin is: {iqr}\")\n",
    "print(f\"The the median for Capomulin is: {round(quartiles[0.5], 2)} \")\n",
    "\n",
    "lower_bound = lowerq - (1.5*iqr)\n",
    "upper_bound = upperq + (1.5*iqr)\n",
    "print(f\"Values below {lower_bound} could be outliers.\")\n",
    "print(f\"Values above {upper_bound} could be outliers.\")\n",
    "\n",
    "print('')\n",
    "print('--------------------------')\n",
    "print('')\n",
    "\n",
    "quartiles = rami_final_vols.quantile([.25,.5,.75])\n",
    "lowerq = round(quartiles[0.25], 2)\n",
    "upperq = round(quartiles[0.75], 2)\n",
    "iqr = round(upperq-lowerq, 2)\n",
    "\n",
    "print(f\"The lower quartile for Ramicane is: {lowerq}\")\n",
    "print(f\"The upper quartile for Ramicane is: {upperq}\")\n",
    "print(f\"The interquartile for Ramicane is: {iqr}\")\n",
    "print(f\"The the median for Ramicane is: {round(quartiles[0.5], 2)} \")\n",
    "\n",
    "lower_bound = lowerq - (1.5*iqr)\n",
    "upper_bound = upperq + (1.5*iqr)\n",
    "print(f\"Values below {lower_bound} could be outliers.\")\n",
    "print(f\"Values above {upper_bound} could be outliers.\")\n",
    "\n",
    "print('')\n",
    "print('--------------------------')\n",
    "print('')\n",
    "\n",
    "quartiles = infu_final_vols.quantile([.25,.5,.75])\n",
    "lowerq = round(quartiles[0.25], 2)\n",
    "upperq = round(quartiles[0.75], 2)\n",
    "iqr = round(upperq-lowerq, 2)\n",
    "\n",
    "print(f\"The lower quartile for Infubinol is: {lowerq}\")\n",
    "print(f\"The upper quartile for Infubinol is: {upperq}\")\n",
    "print(f\"The interquartile for Infubinol is: {iqr}\")\n",
    "print(f\"The the median for Infubinol is: {round(quartiles[0.5], 2)} \")\n",
    "\n",
    "lower_bound = lowerq - (1.5*iqr)\n",
    "upper_bound = upperq + (1.5*iqr)\n",
    "print(f\"Values below {lower_bound} could be outliers.\")\n",
    "print(f\"Values above {upper_bound} could be outliers.\")\n",
    "\n",
    "print('')\n",
    "print('--------------------------')\n",
    "print('')\n",
    "\n",
    "quartiles = ceft_final_vols.quantile([.25,.5,.75])\n",
    "lowerq = round(quartiles[0.25], 2)\n",
    "upperq = round(quartiles[0.75], 2)\n",
    "iqr = round(upperq-lowerq, 2)\n",
    "\n",
    "print(f\"The lower quartile for Ceftamin is: {lowerq}\")\n",
    "print(f\"The upper quartile for Ceftamin is: {upperq}\")\n",
    "print(f\"The interquartile for Ceftamin is: {iqr}\")\n",
    "print(f\"The the median for Ceftamin is: {round(quartiles[0.5], 2)} \")\n",
    "\n",
    "lower_bound = lowerq - (1.5*iqr)\n",
    "upper_bound = upperq + (1.5*iqr)\n",
    "print(f\"Values below {lower_bound} could be outliers.\")\n",
    "print(f\"Values above {upper_bound} could be outliers.\")"
   ]
  },
  {
   "cell_type": "code",
   "execution_count": 45,
   "metadata": {},
   "outputs": [
    {
     "data": {
      "image/png": "[encoded data removed]",
      "text/plain": [
       "<Figure size 432x288 with 1 Axes>"
      ]
     },
     "metadata": {
      "needs_background": "light"
     },
     "output_type": "display_data"
    }
   ],
   "source": [
    "# Generate a box plot of the final tumor volume of each mouse across four regimens of interest\n",
    "fig1, ax1 = plt.subplots()\n",
    "x_ticks = ['', 'Capomulin', 'Ramicane', 'Infubinol', 'Ceftamin']\n",
    "x_axis = np.arange(len(x_ticks))\n",
    "tick_locations = [value for value in x_axis]\n",
    "ax1.set_title('Final Tumor Volumes for Top Regimens')\n",
    "ax1.set_ylabel('Final Tumor Vol (mm3)')\n",
    "ax1.boxplot([capo_final_vols, rami_final_vols, infu_final_vols, ceft_final_vols])\n",
    "plt.xticks(tick_locations, x_ticks, rotation=45)\n",
    "plt.show()"
   ]
  },
  {
   "cell_type": "markdown",
   "metadata": {},
   "source": [
    "## Line and scatter plots"
   ]
  },
  {
   "cell_type": "code",
   "execution_count": 10,
   "metadata": {},
   "outputs": [
    {
     "data": {
      "text/plain": [
       "Text(0, 0.5, 'Tumor Volume (mm3)')"
      ]
     },
     "execution_count": 10,
     "metadata": {},
     "output_type": "execute_result"
    },
    {
     "data": {
      "image/png": "[encoded data removed]",
      "text/plain": [
       "<Figure size 432x288 with 1 Axes>"
      ]
     },
     "metadata": {
      "needs_background": "light"
     },
     "output_type": "display_data"
    }
   ],
   "source": [
    "# Generate a line plot of time point versus tumor volume for a mouse treated with Capomulin\n",
    "capo_only = mouse_study_data.loc[(mouse_study_data['Drug Regimen'] == 'Capomulin'),  \n",
    "                              ['Mouse ID', 'Drug Regimen', 'Timepoint', 'Tumor Volume (mm3)']]\n",
    "\n",
    "capo_times = capo_only.groupby(['Timepoint'])['Tumor Volume (mm3)'].mean()\n",
    "\n",
    "capo_vols, = plt.plot(capo_times, label= 'Tumor Vol')\n",
    "plt.legend(handles=[capo_vols], loc='best')\n",
    "plt.title('Tumor Vol over Time for Capomulin')\n",
    "plt.xlabel('Timepont')\n",
    "plt.ylabel('Tumor Volume (mm3)')"
   ]
  },
  {
   "cell_type": "code",
   "execution_count": 11,
   "metadata": {},
   "outputs": [
    {
     "data": {
      "text/plain": [
       "Text(0, 0.5, 'Tumor Volume (mm3)')"
      ]
     },
     "execution_count": 11,
     "metadata": {},
     "output_type": "execute_result"
    },
    {
     "data": {
      "image/png": "[encoded data removed]",
      "text/plain": [
       "<Figure size 432x288 with 1 Axes>"
      ]
     },
     "metadata": {
      "needs_background": "light"
     },
     "output_type": "display_data"
    }
   ],
   "source": [
    "# Generate a scatter plot of mouse weight versus average tumor volume for the Capomulin regimen\n",
    "capo_weights = mouse_study_data.loc[(mouse_study_data['Drug Regimen'] == 'Capomulin'),  \n",
    "                              ['Mouse ID', 'Drug Regimen', 'Weight (g)', 'Tumor Volume (mm3)']]\n",
    "\n",
    "capo_means = capo_weights.groupby(['Mouse ID'])['Tumor Volume (mm3)'].mean()\n",
    "capo_weights = capo_weights.groupby(['Mouse ID'])['Weight (g)'].mean()\n",
    "\n",
    "plt.scatter(capo_weights, capo_means)\n",
    "plt.title('Weight vs Avg Tumor Vol for Capomulin')\n",
    "plt.xlabel('Weight (g)')\n",
    "plt.ylabel('Tumor Volume (mm3)')"
   ]
  },
  {
   "cell_type": "code",
   "execution_count": 12,
   "metadata": {},
   "outputs": [
    {
     "name": "stdout",
     "output_type": "stream",
     "text": [
      "The r-squared is: 0.8419363424694718\n"
     ]
    },
    {
     "data": {
      "image/png": "[encoded data removed]",
      "text/plain": [
       "<Figure size 432x288 with 1 Axes>"
      ]
     },
     "metadata": {
      "needs_background": "light"
     },
     "output_type": "display_data"
    }
   ],
   "source": [
    "# Calculate the correlation coefficient and linear regression model for mouse weight \n",
    "# and average tumor volume for the Capomulin regimen\n",
    "\n",
    "(slope, intercept, rvalue, pvalue, stderr) = linregress(capo_weights, capo_means)\n",
    "regress_values = capo_weights * slope + intercept\n",
    "line_eq = \"y = \" + str(round(slope,2)) + \"x + \" + str(round(intercept,2))\n",
    "plt.scatter(capo_weights, capo_means)\n",
    "plt.plot(capo_weights,regress_values,\"r-\")\n",
    "plt.annotate(line_eq, (50, 50), fontsize=15,color=\"red\")\n",
    "plt.title('Weight vs Tumor Volume')\n",
    "plt.xlabel('Weight (g)')\n",
    "plt.ylabel('Tumor Volume (mm3)')\n",
    "print(f\"The r-squared is: {rvalue}\")\n",
    "plt.show()"
   ]
  },
  {
   "cell_type": "code",
   "execution_count": null,
   "metadata": {},
   "outputs": [],
   "source": []
  },
  {
   "cell_type": "code",
   "execution_count": null,
   "metadata": {},
   "outputs": [],
   "source": []
  },
  {
   "cell_type": "code",
   "execution_count": null,
   "metadata": {},
   "outputs": [],
   "source": []
  },
  {
   "cell_type": "code",
   "execution_count": null,
   "metadata": {},
   "outputs": [],
   "source": []
  }
 ],
 "metadata": {
  "anaconda-cloud": {},
  "kernelspec": {
   "display_name": "Python 3",
   "language": "python",
   "name": "python3"
  },
  "language_info": {
   "codemirror_mode": {
    "name": "ipython",
    "version": 3
   },
   "file_extension": ".py",
   "mimetype": "text/x-python",
   "name": "python",
   "nbconvert_exporter": "python",
   "pygments_lexer": "ipython3",
   "version": "3.8.1"
  }
 },
 "nbformat": 4,
 "nbformat_minor": 2
}
